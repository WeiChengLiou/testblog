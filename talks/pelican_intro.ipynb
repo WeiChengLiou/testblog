{
 "metadata": {
  "celltoolbar": "Slideshow",
  "name": "",
  "signature": "sha256:753cc5e850172bacedc15550223fa2f40fd370cc74048c637e1a7cc3f5e3e3c2"
 },
 "nbformat": 3,
 "nbformat_minor": 0,
 "worksheets": [
  {
   "cells": [
    {
     "cell_type": "code",
     "collapsed": false,
     "input": [
      "from IPython.display import HTML\n",
      "from IPython.display import Image"
     ],
     "language": "python",
     "metadata": {},
     "outputs": [],
     "prompt_number": 2
    },
    {
     "cell_type": "markdown",
     "metadata": {
      "slideshow": {
       "slide_type": "slide"
      }
     },
     "source": [
      "# Introducing pelican\n",
      "\n",
      "\n",
      "<center>\n",
      "<h2> static site/blog generator </h2>\n",
      "\n",
      "<p class=\"gap05\"<p>\n",
      "<h3> Gilbert Liou </h3>\n",
      "<h3>[http://www.gilbertliou.me](http://www.gilbertliou.me) </h3>\n",
      "<h3>[gilbert.liou.tw@gmail.com](gilbert.liou.tw@gmail.com) </h3>\n",
      "<h3> 6th, Oct., 2014 </h3>\n",
      "<h3> at Taiwan R User Group</h3>\n",
      "\n",
      "<p class=\"gap2\"<p>\n",
      "</center>"
     ]
    },
    {
     "cell_type": "code",
     "collapsed": false,
     "input": [
      "# I keep this as a cell in my title slide so I can rerun \n",
      "# it easily if I make changes, but it's low enough it won't\n",
      "# be visible in presentation mode.\n",
      "%run talktools"
     ],
     "language": "python",
     "metadata": {
      "slideshow": {
       "slide_type": "skip"
      }
     },
     "outputs": [
      {
       "html": [
        "<style>\n",
        "\n",
        ".rendered_html\n",
        "{\n",
        "  color: #2C5494;\n",
        "  font-family: Ubuntu;\n",
        "  font-size: 140%;\n",
        "  line-height: 1.1;\n",
        "  margin: 0.5em 0;\n",
        "  }\n",
        "\n",
        ".title\n",
        "{\n",
        "  color: #498AF3;\n",
        "  font-size: 250%;\n",
        "  font-weight:bold;\n",
        "  line-height: 1.2; \n",
        "  margin: 10px 50px 10px;\n",
        "  }\n",
        "\n",
        ".subtitle\n",
        "{\n",
        "  color: #386BBC;\n",
        "  font-size: 180%;\n",
        "  font-weight:bold;\n",
        "  line-height: 1.2; \n",
        "  margin: 20px 50px 20px;\n",
        "  }\n",
        "\n",
        ".slide-header, p.slide-header\n",
        "{\n",
        "  color: #498AF3;\n",
        "  font-size: 200%;\n",
        "  font-weight:bold;\n",
        "  margin: 0px 20px 10px;\n",
        "  page-break-before: always;\n",
        "  text-align: center;\n",
        "  }\n",
        "\n",
        ".rendered_html h1\n",
        "{\n",
        "  color: #498AF3;\n",
        "  line-height: 1.2; \n",
        "  margin: 0.15em 0em 0.5em;\n",
        "  page-break-before: always;\n",
        "  text-align: center;\n",
        "  }\n",
        "\n",
        "\n",
        ".rendered_html h2\n",
        "{ \n",
        "  color: #386BBC;\n",
        "  line-height: 1.2;\n",
        "  margin: 1.1em 0em 0.5em;\n",
        "  }\n",
        "\n",
        ".rendered_html h3\n",
        "{ \n",
        "  font-size: 100%;\n",
        "  line-height: 1.2;\n",
        "  margin: 1.1em 0em 0.5em;\n",
        "  }\n",
        "\n",
        ".rendered_html li\n",
        "{\n",
        "  line-height: 1.8;\n",
        "  }\n",
        "\n",
        ".input_prompt, .CodeMirror-lines, .output_area\n",
        "{\n",
        "  font-family: Consolas;\n",
        "  font-size: 120%;\n",
        "  }\n",
        "\n",
        ".gap-above\n",
        "{\n",
        "  padding-top: 200px;\n",
        "  }\n",
        "\n",
        ".gap01\n",
        "{\n",
        "  padding-top: 10px;\n",
        "  }\n",
        "\n",
        ".gap05\n",
        "{\n",
        "  padding-top: 50px;\n",
        "  }\n",
        "\n",
        ".gap1\n",
        "{\n",
        "  padding-top: 100px;\n",
        "  }\n",
        "\n",
        ".gap2\n",
        "{\n",
        "  padding-top: 200px;\n",
        "  }\n",
        "\n",
        ".gap3\n",
        "{\n",
        "  padding-top: 300px;\n",
        "  }\n",
        "\n",
        ".emph\n",
        "{\n",
        "  color: #386BBC;\n",
        "  }\n",
        "\n",
        ".warn\n",
        "{\n",
        "  color: red;\n",
        "  }\n",
        "\n",
        ".center\n",
        "{\n",
        "  text-align: center;\n",
        "  }\n",
        "\n",
        ".nb_link\n",
        "{\n",
        "    padding-bottom: 0.5em;\n",
        "}\n",
        "\n",
        "</style>\n"
       ],
       "metadata": {},
       "output_type": "display_data",
       "text": [
        "<IPython.core.display.HTML at 0x7f5bb01ddf10>"
       ]
      }
     ],
     "prompt_number": 16
    },
    {
     "cell_type": "markdown",
     "metadata": {
      "slideshow": {
       "slide_type": "slide"
      }
     },
     "source": [
      "About pelican...\n",
      "===\n",
      "\n",
      "* Write your content in reStructuredText, Markdown, or AsciiDoc formats\n",
      "* Completely static output is easy to host anywhere\n",
      "* Themes that can be customized via Jinja templates\n",
      "* Publish content in multiple languages\n",
      "* Atom/RSS feeds\n",
      "* Code syntax highlighting\n",
      "* Import from WordPress, Dotclear, RSS feeds, and other services\n",
      "* Modular plugin system and corresponding plugin repository\n",
      "* **Support ipython notebook!!**"
     ]
    },
    {
     "cell_type": "markdown",
     "metadata": {
      "slideshow": {
       "slide_type": "slide"
      }
     },
     "source": [
      "# Issues today...\n",
      "\n",
      "* Installation\n",
      "* Common Settings\n",
      "* Work Flow"
     ]
    },
    {
     "cell_type": "code",
     "collapsed": false,
     "input": [
      "s1=\"\"\"\n",
      "<img src=\"images/pelican_intro.1.png\" width=\"700\">\n",
      "\"\"\""
     ],
     "language": "python",
     "metadata": {
      "slideshow": {
       "slide_type": "skip"
      }
     },
     "outputs": [],
     "prompt_number": 8
    },
    {
     "cell_type": "markdown",
     "metadata": {
      "slideshow": {
       "slide_type": "slide"
      }
     },
     "source": [
      "# Reference"
     ]
    },
    {
     "cell_type": "code",
     "collapsed": false,
     "input": [
      "HTML(s1)"
     ],
     "language": "python",
     "metadata": {
      "slideshow": {
       "slide_type": "-"
      }
     },
     "outputs": [
      {
       "html": [
        "\n",
        "<img src=\"images/pelican_intro.1.png\" width=\"700\">\n"
       ],
       "metadata": {},
       "output_type": "pyout",
       "prompt_number": 9,
       "text": [
        "<IPython.core.display.HTML at 0x7f5bb01dda50>"
       ]
      }
     ],
     "prompt_number": 9
    },
    {
     "cell_type": "code",
     "collapsed": false,
     "input": [
      "s1=\"\"\"\n",
      "<img src=\"images/pelican_intro.2.png\" width=\"700\">\n",
      "\"\"\""
     ],
     "language": "python",
     "metadata": {
      "slideshow": {
       "slide_type": "skip"
      }
     },
     "outputs": [],
     "prompt_number": 10
    },
    {
     "cell_type": "code",
     "collapsed": false,
     "input": [
      "HTML(s1)"
     ],
     "language": "python",
     "metadata": {
      "slideshow": {
       "slide_type": "slide"
      }
     },
     "outputs": [
      {
       "html": [
        "\n",
        "<img src=\"images/pelican_intro.2.png\" width=\"700\">\n"
       ],
       "metadata": {},
       "output_type": "pyout",
       "prompt_number": 11,
       "text": [
        "<IPython.core.display.HTML at 0x7f5bb01ddad0>"
       ]
      }
     ],
     "prompt_number": 11
    },
    {
     "cell_type": "code",
     "collapsed": false,
     "input": [
      "s1=\"\"\"\n",
      "<img src=\"images/pelican_intro.3.png\" width=\"700\">\n",
      "\"\"\""
     ],
     "language": "python",
     "metadata": {
      "slideshow": {
       "slide_type": "skip"
      }
     },
     "outputs": [],
     "prompt_number": 13
    },
    {
     "cell_type": "code",
     "collapsed": false,
     "input": [
      "HTML(s1)"
     ],
     "language": "python",
     "metadata": {
      "slideshow": {
       "slide_type": "slide"
      }
     },
     "outputs": [
      {
       "html": [
        "\n",
        "<img src=\"images/pelican_intro.3.png\" width=\"700\">\n"
       ],
       "metadata": {},
       "output_type": "pyout",
       "prompt_number": 14,
       "text": [
        "<IPython.core.display.HTML at 0x7f5bb01dde50>"
       ]
      }
     ],
     "prompt_number": 14
    },
    {
     "cell_type": "markdown",
     "metadata": {
      "slideshow": {
       "slide_type": "slide"
      }
     },
     "source": [
      "# Installation\n",
      "\n",
      "* Prepare pyenv environment\n",
      "\n",
      "<code>\n",
      "    mkdir pelican\n",
      "    cd pelican\n",
      "    pyenv virtualenv 2.7.8 pelican\n",
      "    pyenv local pelican\n",
      "</code>\n",
      "\n",
      "*You may also use virtualenv/virtualwrapper*"
     ]
    },
    {
     "cell_type": "markdown",
     "metadata": {
      "slideshow": {
       "slide_type": "slide"
      }
     },
     "source": [
      "* download [requirements.txt](http://weichengliou.github.io/blog/downloads/requirements.txt) then install it!\n",
      "\n",
      "<code>\n",
      "    wget http://weichengliou.github.io/blog/downloads/requirements.txt\n",
      "    sudo pip install -r requirements.txt\n",
      "</code>"
     ]
    },
    {
     "cell_type": "markdown",
     "metadata": {
      "slideshow": {
       "slide_type": "slide"
      }
     },
     "source": [
      "* Install theme and pluins\n",
      "\n",
      "<code>\n",
      "    git clone https://github.com/jakevdp/pelican-octopress-theme.git\n",
      "    git clone https://github.com/getpelican/pelican-plugins.git\n",
      "</code>"
     ]
    },
    {
     "cell_type": "markdown",
     "metadata": {
      "slideshow": {
       "slide_type": "slide"
      }
     },
     "source": [
      "* Two options to start pelican...\n",
      "\n",
      "    1. `pelican-quickstart`\n",
      "    2. `git clone https://github.com/ocefpaf/python4oceanographers`"
     ]
    },
    {
     "cell_type": "markdown",
     "metadata": {
      "slideshow": {
       "slide_type": "slide"
      }
     },
     "source": [
      "* Edit *pelicanconf.py*\n",
      "\n",
      "<code>\n",
      "    path = os.path.join(os.environ.get('HOME'), 'pelican')\n",
      "    THEME = '%s/pelican-octopress-theme' % path\n",
      "    PLUGIN_PATH = '%s/pelican-plugins' % path\n",
      "</code>\n",
      "\n",
      "**It's done!!**"
     ]
    },
    {
     "cell_type": "markdown",
     "metadata": {
      "slideshow": {
       "slide_type": "slide"
      }
     },
     "source": [
      "Local test\n",
      "===\n",
      "\n",
      "<code>\n",
      "    make html\n",
      "    cd output\n",
      "    python -m SimpleHTTPServer 8080\n",
      "</code>\n"
     ]
    },
    {
     "cell_type": "markdown",
     "metadata": {
      "slideshow": {
       "slide_type": "slide"
      }
     },
     "source": [
      "Common Settings\n",
      "===\n",
      "\n",
      "<code>\n",
      "    AUTHOR: \u4f5c\u8005\n",
      "    SITENAME: \u7ad9\u540d\n",
      "    SITESUBTITLE: \u7ad9\u540d\u526f\u6a19\u984c\n",
      "    uri GitHub Pages: \u7ad9\u540d\uff0c\u683c\u5f0f\u70ba http://\u5e33\u865f.github.io\n",
      "    LINKS: \u53cb\u7ad9\u9023\u7d50\n",
      "    TWITTER_USER: \u4f60\u7684 Twitter \u5e33\u865f\n",
      "    GOOGLEPLUS_USER: \u4f60\u7684 Google+ \u5e33\u865f\n",
      "</code>"
     ]
    },
    {
     "cell_type": "markdown",
     "metadata": {
      "slideshow": {
       "slide_type": "slide"
      }
     },
     "source": [
      "#File System Structure\n"
     ]
    },
    {
     "cell_type": "markdown",
     "metadata": {},
     "source": [
      "<code>\n",
      "|- blog\n",
      "| |- content\n",
      "| | |- downloads\n",
      "| | | |- code\n",
      "| | | |- data\n",
      "| | | |- notebooks\n",
      "| | |- figures\n",
      "| | |- images\n",
      "| | |- pages\n",
      "| |- output\n",
      "|- pelican-octopress-theme\n",
      "|- pelican-plugins\n",
      "</code>"
     ]
    },
    {
     "cell_type": "markdown",
     "metadata": {
      "slideshow": {
       "slide_type": "slide"
      }
     },
     "source": [
      "# Work flow\n",
      "\n",
      "* Write markdown file\n",
      "* Add tags in front\n",
      "<code>\n",
      "    *title*: \u5982\u4f55\u5229\u7528 pelican \u5efa\u7acb blog\n",
      "    *date*: 2014-08-07 00:30\n",
      "    *comments*: true\n",
      "    *slug*: buildblog\n",
      "    *tags*: python, pelican\n",
      "</code>"
     ]
    },
    {
     "cell_type": "markdown",
     "metadata": {
      "slideshow": {
       "slide_type": "slide"
      }
     },
     "source": [
      "* Copy ipython notebook file\n",
      "* Include existed ipython notebook file.\n",
      "<code>\n",
      "    {% notebook blogging.ipynb cells[1:] %}\n",
      "</code>\n",
      "* Use local test to check format"
     ]
    },
    {
     "cell_type": "markdown",
     "metadata": {
      "slideshow": {
       "slide_type": "slide"
      }
     },
     "source": [
      "# Create GitHub repository\n",
      "<code>\n",
      "    git remote remove origin\n",
      "    git remote add origin https://github.com/\u5e33\u865f/blog.git\n",
      "    git push -u origin master\n",
      "</code>"
     ]
    },
    {
     "cell_type": "markdown",
     "metadata": {
      "slideshow": {
       "slide_type": "slide"
      }
     },
     "source": [
      "Build up blog\n",
      "===\n",
      "<code>\n",
      "    git push master\n",
      "    make gh-pages\n",
      "</code>"
     ]
    },
    {
     "cell_type": "raw",
     "metadata": {
      "slideshow": {
       "slide_type": "skip"
      }
     },
     "source": [
      "<script type=\"text/javascript\">\n",
      "function hideElements(elements, start) {\n",
      "    for(var i = 0, length = elements.length; i < length;i++) {\n",
      "        if(i >= start) {\n",
      "            elements[i].style.display = \"none\";ma\n",
      "        }\n",
      "    }\n",
      "}\n",
      "var input_elements = document.getElementsByClassName('input');\n",
      "hideElements(input_elements, 0);\n",
      "var prompt_elements = document.getElementsByClassName('prompt');\n",
      "hideElements(prompt_elements, 0);\n",
      "</script>\n"
     ]
    }
   ],
   "metadata": {}
  }
 ]
}